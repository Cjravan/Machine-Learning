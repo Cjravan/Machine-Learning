{
 "cells": [
  {
   "cell_type": "code",
   "execution_count": null,
   "id": "7cb82247",
   "metadata": {},
   "outputs": [],
   "source": [
    "Q.1 Perform Exploratory Data Analysis (EDA) tasks\n",
    "a Visualize the 10 random rows of the data set\n",
    "b Generate the description for numeric variables\n",
    "c Check the shape of the data set\n",
    "d Generate the correlation matrix\n",
    "e Generate a correlogram\n",
    "\n",
    "Q.2 Find out the minimum and maximum values for GRE\n",
    "score\n",
    "\n",
    "Q.3 Find out the percentage of universities for each\n",
    "university rating \n",
    "Q.4\n",
    "Convert the target variable “Chance of Admit” to\n",
    "categorical having values 0 and 1,such that :\n",
    "Students having the “Chance of Admit” value > 0.80, are assigned\n",
    "value 1, and\n",
    "Students having the “Chance of Admit” value < 0.80, are assigned\n",
    "value 0\n",
    "Where 0: Low chance of Admission and 1: High chance of\n",
    "admission\n",
    "\n",
    "Q.5 Build a Decision Tree classifier, to predict whether a\n",
    "student has a low or high chance of admission to a chosen\n",
    "university. Perform Hyperparameter Tuning to improve\n",
    "the accuracy of the model.\n",
    "\n",
    "Q.6 Build a Random Forest classifier, to predict whether a\n",
    "student has a low or high chance of admission to a chosen\n",
    "university.\n",
    "\n",
    "Q.7 Also use Ensemble Modelling techniques, to predict\n",
    "whether a student has a low or high chance of admission\n",
    "to a chosen university.\n",
    "\n",
    "Q.8 Compare all of the models and justify your choice about\n",
    "the optimum model."
   ]
  }
 ],
 "metadata": {
  "kernelspec": {
   "display_name": "Python 3 (ipykernel)",
   "language": "python",
   "name": "python3"
  },
  "language_info": {
   "codemirror_mode": {
    "name": "ipython",
    "version": 3
   },
   "file_extension": ".py",
   "mimetype": "text/x-python",
   "name": "python",
   "nbconvert_exporter": "python",
   "pygments_lexer": "ipython3",
   "version": "3.10.12"
  }
 },
 "nbformat": 4,
 "nbformat_minor": 5
}
